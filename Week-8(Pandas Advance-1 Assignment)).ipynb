{
 "cells": [
  {
   "cell_type": "markdown",
   "id": "0398a17f-09d2-493d-bade-501e2e74be0d",
   "metadata": {},
   "source": [
    "Q1"
   ]
  },
  {
   "cell_type": "code",
   "execution_count": 1,
   "id": "905e2428-49a1-42da-99b7-c210bde7d02c",
   "metadata": {},
   "outputs": [],
   "source": [
    "import pandas as pd\n",
    "df=pd.DataFrame({'A':[12,13,14],\n",
    "                  'B':[15,16,17],\n",
    "                  'C':[18,19,20]})"
   ]
  },
  {
   "cell_type": "code",
   "execution_count": 2,
   "id": "cc388ec6-5b7e-46ea-96ce-67a9fae12ec9",
   "metadata": {},
   "outputs": [
    {
     "data": {
      "text/html": [
       "<div>\n",
       "<style scoped>\n",
       "    .dataframe tbody tr th:only-of-type {\n",
       "        vertical-align: middle;\n",
       "    }\n",
       "\n",
       "    .dataframe tbody tr th {\n",
       "        vertical-align: top;\n",
       "    }\n",
       "\n",
       "    .dataframe thead th {\n",
       "        text-align: right;\n",
       "    }\n",
       "</style>\n",
       "<table border=\"1\" class=\"dataframe\">\n",
       "  <thead>\n",
       "    <tr style=\"text-align: right;\">\n",
       "      <th></th>\n",
       "      <th>A</th>\n",
       "      <th>B</th>\n",
       "      <th>C</th>\n",
       "    </tr>\n",
       "  </thead>\n",
       "  <tbody>\n",
       "    <tr>\n",
       "      <th>0</th>\n",
       "      <td>12</td>\n",
       "      <td>15</td>\n",
       "      <td>18</td>\n",
       "    </tr>\n",
       "    <tr>\n",
       "      <th>1</th>\n",
       "      <td>13</td>\n",
       "      <td>16</td>\n",
       "      <td>19</td>\n",
       "    </tr>\n",
       "    <tr>\n",
       "      <th>2</th>\n",
       "      <td>14</td>\n",
       "      <td>17</td>\n",
       "      <td>20</td>\n",
       "    </tr>\n",
       "  </tbody>\n",
       "</table>\n",
       "</div>"
      ],
      "text/plain": [
       "    A   B   C\n",
       "0  12  15  18\n",
       "1  13  16  19\n",
       "2  14  17  20"
      ]
     },
     "execution_count": 2,
     "metadata": {},
     "output_type": "execute_result"
    }
   ],
   "source": [
    "df.head()"
   ]
  },
  {
   "cell_type": "code",
   "execution_count": 3,
   "id": "12c7168c-3184-4595-af16-a885c8f4346d",
   "metadata": {},
   "outputs": [
    {
     "data": {
      "text/html": [
       "<div>\n",
       "<style scoped>\n",
       "    .dataframe tbody tr th:only-of-type {\n",
       "        vertical-align: middle;\n",
       "    }\n",
       "\n",
       "    .dataframe tbody tr th {\n",
       "        vertical-align: top;\n",
       "    }\n",
       "\n",
       "    .dataframe thead th {\n",
       "        text-align: right;\n",
       "    }\n",
       "</style>\n",
       "<table border=\"1\" class=\"dataframe\">\n",
       "  <thead>\n",
       "    <tr style=\"text-align: right;\">\n",
       "      <th></th>\n",
       "      <th>A</th>\n",
       "      <th>B</th>\n",
       "      <th>C</th>\n",
       "    </tr>\n",
       "  </thead>\n",
       "  <tbody>\n",
       "    <tr>\n",
       "      <th>count</th>\n",
       "      <td>3.0</td>\n",
       "      <td>3.0</td>\n",
       "      <td>3.0</td>\n",
       "    </tr>\n",
       "    <tr>\n",
       "      <th>mean</th>\n",
       "      <td>13.0</td>\n",
       "      <td>16.0</td>\n",
       "      <td>19.0</td>\n",
       "    </tr>\n",
       "    <tr>\n",
       "      <th>std</th>\n",
       "      <td>1.0</td>\n",
       "      <td>1.0</td>\n",
       "      <td>1.0</td>\n",
       "    </tr>\n",
       "    <tr>\n",
       "      <th>min</th>\n",
       "      <td>12.0</td>\n",
       "      <td>15.0</td>\n",
       "      <td>18.0</td>\n",
       "    </tr>\n",
       "    <tr>\n",
       "      <th>25%</th>\n",
       "      <td>12.5</td>\n",
       "      <td>15.5</td>\n",
       "      <td>18.5</td>\n",
       "    </tr>\n",
       "    <tr>\n",
       "      <th>50%</th>\n",
       "      <td>13.0</td>\n",
       "      <td>16.0</td>\n",
       "      <td>19.0</td>\n",
       "    </tr>\n",
       "    <tr>\n",
       "      <th>75%</th>\n",
       "      <td>13.5</td>\n",
       "      <td>16.5</td>\n",
       "      <td>19.5</td>\n",
       "    </tr>\n",
       "    <tr>\n",
       "      <th>max</th>\n",
       "      <td>14.0</td>\n",
       "      <td>17.0</td>\n",
       "      <td>20.0</td>\n",
       "    </tr>\n",
       "  </tbody>\n",
       "</table>\n",
       "</div>"
      ],
      "text/plain": [
       "          A     B     C\n",
       "count   3.0   3.0   3.0\n",
       "mean   13.0  16.0  19.0\n",
       "std     1.0   1.0   1.0\n",
       "min    12.0  15.0  18.0\n",
       "25%    12.5  15.5  18.5\n",
       "50%    13.0  16.0  19.0\n",
       "75%    13.5  16.5  19.5\n",
       "max    14.0  17.0  20.0"
      ]
     },
     "execution_count": 3,
     "metadata": {},
     "output_type": "execute_result"
    }
   ],
   "source": [
    "df.describe()"
   ]
  },
  {
   "cell_type": "code",
   "execution_count": 9,
   "id": "c35d545a-1167-4ac4-8817-e557b7146d87",
   "metadata": {},
   "outputs": [
    {
     "data": {
      "text/plain": [
       "A    int64\n",
       "B    int64\n",
       "C    int64\n",
       "dtype: object"
      ]
     },
     "execution_count": 9,
     "metadata": {},
     "output_type": "execute_result"
    }
   ],
   "source": [
    "df.dtypes"
   ]
  },
  {
   "cell_type": "code",
   "execution_count": 8,
   "id": "b4d61d79-4a32-4b6a-8594-916093e7ecb0",
   "metadata": {},
   "outputs": [
    {
     "data": {
      "text/plain": [
       "0    12.0\n",
       "1    13.0\n",
       "2    14.0\n",
       "Name: A, dtype: float64"
      ]
     },
     "execution_count": 8,
     "metadata": {},
     "output_type": "execute_result"
    }
   ],
   "source": [
    "df['A'].astype('float')"
   ]
  },
  {
   "cell_type": "code",
   "execution_count": 6,
   "id": "9647e329-cbf8-4bea-91ce-8743894a0fe8",
   "metadata": {},
   "outputs": [
    {
     "data": {
      "text/plain": [
       "Index(['A', 'B', 'C'], dtype='object')"
      ]
     },
     "execution_count": 6,
     "metadata": {},
     "output_type": "execute_result"
    }
   ],
   "source": [
    "df.columns"
   ]
  },
  {
   "cell_type": "markdown",
   "id": "2f8a5de9-164f-4a73-b5c0-2dad609d95ba",
   "metadata": {},
   "source": [
    "Q2"
   ]
  },
  {
   "cell_type": "code",
   "execution_count": 10,
   "id": "d87b99e7-8510-433a-990c-da049597893a",
   "metadata": {},
   "outputs": [],
   "source": [
    "import pandas as pd\n",
    "df=pd.DataFrame({'A':[12,13,14],\n",
    "                  'B':[15,16,17],\n",
    "                  'C':[18,19,20]})"
   ]
  },
  {
   "cell_type": "code",
   "execution_count": 12,
   "id": "39201358-0508-40fb-80cc-05543f6fe154",
   "metadata": {},
   "outputs": [
    {
     "data": {
      "text/html": [
       "<div>\n",
       "<style scoped>\n",
       "    .dataframe tbody tr th:only-of-type {\n",
       "        vertical-align: middle;\n",
       "    }\n",
       "\n",
       "    .dataframe tbody tr th {\n",
       "        vertical-align: top;\n",
       "    }\n",
       "\n",
       "    .dataframe thead th {\n",
       "        text-align: right;\n",
       "    }\n",
       "</style>\n",
       "<table border=\"1\" class=\"dataframe\">\n",
       "  <thead>\n",
       "    <tr style=\"text-align: right;\">\n",
       "      <th></th>\n",
       "      <th>A</th>\n",
       "      <th>B</th>\n",
       "      <th>C</th>\n",
       "    </tr>\n",
       "  </thead>\n",
       "  <tbody>\n",
       "    <tr>\n",
       "      <th>1</th>\n",
       "      <td>12</td>\n",
       "      <td>15</td>\n",
       "      <td>18</td>\n",
       "    </tr>\n",
       "    <tr>\n",
       "      <th>3</th>\n",
       "      <td>13</td>\n",
       "      <td>16</td>\n",
       "      <td>19</td>\n",
       "    </tr>\n",
       "    <tr>\n",
       "      <th>5</th>\n",
       "      <td>14</td>\n",
       "      <td>17</td>\n",
       "      <td>20</td>\n",
       "    </tr>\n",
       "  </tbody>\n",
       "</table>\n",
       "</div>"
      ],
      "text/plain": [
       "    A   B   C\n",
       "1  12  15  18\n",
       "3  13  16  19\n",
       "5  14  17  20"
      ]
     },
     "execution_count": 12,
     "metadata": {},
     "output_type": "execute_result"
    }
   ],
   "source": [
    "def re_index(df):\n",
    "    new_index = pd.RangeIndex(start=1, stop=len(df) * 2, step=2)\n",
    "    df_reindexed = df.reset_index(drop=True).set_index(new_index)\n",
    "    return df_reindexed\n",
    "re_index(df)"
   ]
  },
  {
   "cell_type": "markdown",
   "id": "7fcd50b5-5982-4d5b-a29d-a4fc7b88a65a",
   "metadata": {},
   "source": [
    "Q3"
   ]
  },
  {
   "cell_type": "code",
   "execution_count": 8,
   "id": "6d4259fc-143d-4518-bdcf-bef340e57b41",
   "metadata": {},
   "outputs": [
    {
     "data": {
      "text/plain": [
       "0      NaN\n",
       "1      NaN\n",
       "2     60.0\n",
       "3     90.0\n",
       "4    120.0\n",
       "Name: Values, dtype: float64"
      ]
     },
     "execution_count": 8,
     "metadata": {},
     "output_type": "execute_result"
    }
   ],
   "source": [
    "import pandas as pd\n",
    "df=pd.DataFrame({'Values':[10,20,30,40,50]})\n",
    "df['Values'].rolling(window=3).sum()"
   ]
  },
  {
   "cell_type": "code",
   "execution_count": 10,
   "id": "b7257973-75c5-4cf2-ba3c-bd0d92f894e9",
   "metadata": {},
   "outputs": [
    {
     "data": {
      "text/plain": [
       "60"
      ]
     },
     "execution_count": 10,
     "metadata": {},
     "output_type": "execute_result"
    }
   ],
   "source": [
    "import pandas as pd\n",
    "df=pd.DataFrame({'Values':[10,20,30,40,50,60]})\n",
    "def add_three(df):\n",
    "    first_three=df.iloc[0:3]['Values']\n",
    "    output=first_three.sum()\n",
    "    return output\n",
    "add_three(df)"
   ]
  },
  {
   "cell_type": "markdown",
   "id": "2138918c-7c7e-496b-a086-7da006063541",
   "metadata": {},
   "source": [
    "Q4"
   ]
  },
  {
   "cell_type": "code",
   "execution_count": 11,
   "id": "280955e3-7a5d-4037-8801-d8ab97ebdeff",
   "metadata": {},
   "outputs": [],
   "source": [
    "import pandas as pd\n",
    "df=pd.DataFrame({'Text':['OHSAS 18000 is a series of standards and guidelines for occupational safety and health (OSH) management systems. ',' OSHAS 18000 is compatible with other management system standards, such as ISO 9000 (quality) and ISO 14000 (environmental).','OSHAS 18001: This is the standard that specifies the requirements for an OSH management system. It covers the policy, planning, implementation, operation, checking, and review of the system. It also provides guidance on how to conduct audits and certification of the system.','OSHAS 18002: This is the guideline that provides information and advice on how to apply OSHAS 18001. It covers the interpretation, implementation, and improvement of the system. It also provides examples and best practices of OSH management.','Contributing to the social and environmental sustainability of work and development, by ensuring the respect for human rights, dignity, and diversity, and the protection of natural resources and ecosystems.',\n",
    "                         'Demonstrating the compliance and accountability of organizations to the legal and ethical obligations and expectations of OSH If you want to learn more a','Reducing the risks of work-related injuries, illnesses, and deaths, and improving the health and well-being of workers, employers, and the public.']})"
   ]
  },
  {
   "cell_type": "code",
   "execution_count": 12,
   "id": "633a6ba4-bfac-4b5b-9f5b-a56527fb0a15",
   "metadata": {},
   "outputs": [
    {
     "data": {
      "text/html": [
       "<div>\n",
       "<style scoped>\n",
       "    .dataframe tbody tr th:only-of-type {\n",
       "        vertical-align: middle;\n",
       "    }\n",
       "\n",
       "    .dataframe tbody tr th {\n",
       "        vertical-align: top;\n",
       "    }\n",
       "\n",
       "    .dataframe thead th {\n",
       "        text-align: right;\n",
       "    }\n",
       "</style>\n",
       "<table border=\"1\" class=\"dataframe\">\n",
       "  <thead>\n",
       "    <tr style=\"text-align: right;\">\n",
       "      <th></th>\n",
       "      <th>Text</th>\n",
       "    </tr>\n",
       "  </thead>\n",
       "  <tbody>\n",
       "    <tr>\n",
       "      <th>0</th>\n",
       "      <td>OHSAS 18000 is a series of standards and guide...</td>\n",
       "    </tr>\n",
       "    <tr>\n",
       "      <th>1</th>\n",
       "      <td>OSHAS 18000 is compatible with other manageme...</td>\n",
       "    </tr>\n",
       "    <tr>\n",
       "      <th>2</th>\n",
       "      <td>OSHAS 18001: This is the standard that specifi...</td>\n",
       "    </tr>\n",
       "    <tr>\n",
       "      <th>3</th>\n",
       "      <td>OSHAS 18002: This is the guideline that provid...</td>\n",
       "    </tr>\n",
       "    <tr>\n",
       "      <th>4</th>\n",
       "      <td>Contributing to the social and environmental s...</td>\n",
       "    </tr>\n",
       "    <tr>\n",
       "      <th>5</th>\n",
       "      <td>Demonstrating the compliance and accountabilit...</td>\n",
       "    </tr>\n",
       "    <tr>\n",
       "      <th>6</th>\n",
       "      <td>Reducing the risks of work-related injuries, i...</td>\n",
       "    </tr>\n",
       "  </tbody>\n",
       "</table>\n",
       "</div>"
      ],
      "text/plain": [
       "                                                Text\n",
       "0  OHSAS 18000 is a series of standards and guide...\n",
       "1   OSHAS 18000 is compatible with other manageme...\n",
       "2  OSHAS 18001: This is the standard that specifi...\n",
       "3  OSHAS 18002: This is the guideline that provid...\n",
       "4  Contributing to the social and environmental s...\n",
       "5  Demonstrating the compliance and accountabilit...\n",
       "6  Reducing the risks of work-related injuries, i..."
      ]
     },
     "execution_count": 12,
     "metadata": {},
     "output_type": "execute_result"
    }
   ],
   "source": [
    "df"
   ]
  },
  {
   "cell_type": "code",
   "execution_count": 21,
   "id": "2c49eb2c-0ae8-4f65-bf0b-893b9439a0c2",
   "metadata": {},
   "outputs": [],
   "source": [
    "df['word_count']=df['Text'].apply(lambda x: len(x.split()))"
   ]
  },
  {
   "cell_type": "code",
   "execution_count": 25,
   "id": "0cd42b29-2366-4f0e-92a6-16b71d067822",
   "metadata": {},
   "outputs": [
    {
     "data": {
      "text/html": [
       "<div>\n",
       "<style scoped>\n",
       "    .dataframe tbody tr th:only-of-type {\n",
       "        vertical-align: middle;\n",
       "    }\n",
       "\n",
       "    .dataframe tbody tr th {\n",
       "        vertical-align: top;\n",
       "    }\n",
       "\n",
       "    .dataframe thead th {\n",
       "        text-align: right;\n",
       "    }\n",
       "</style>\n",
       "<table border=\"1\" class=\"dataframe\">\n",
       "  <thead>\n",
       "    <tr style=\"text-align: right;\">\n",
       "      <th></th>\n",
       "      <th>Text</th>\n",
       "      <th>word_count</th>\n",
       "    </tr>\n",
       "  </thead>\n",
       "  <tbody>\n",
       "    <tr>\n",
       "      <th>0</th>\n",
       "      <td>OHSAS 18000 is a series of standards and guidelines for occupational safety and health (OSH) management systems.</td>\n",
       "      <td>17</td>\n",
       "    </tr>\n",
       "    <tr>\n",
       "      <th>1</th>\n",
       "      <td>OSHAS 18000 is compatible with other management system standards, such as ISO 9000 (quality) and ISO 14000 (environmental).</td>\n",
       "      <td>18</td>\n",
       "    </tr>\n",
       "    <tr>\n",
       "      <th>2</th>\n",
       "      <td>OSHAS 18001: This is the standard that specifies the requirements for an OSH management system. It covers the policy, planning, implementation, operation, checking, and review of the system. It also provides guidance on how to conduct audits and certification of the system.</td>\n",
       "      <td>42</td>\n",
       "    </tr>\n",
       "    <tr>\n",
       "      <th>3</th>\n",
       "      <td>OSHAS 18002: This is the guideline that provides information and advice on how to apply OSHAS 18001. It covers the interpretation, implementation, and improvement of the system. It also provides examples and best practices of OSH management.</td>\n",
       "      <td>37</td>\n",
       "    </tr>\n",
       "    <tr>\n",
       "      <th>4</th>\n",
       "      <td>Contributing to the social and environmental sustainability of work and development, by ensuring the respect for human rights, dignity, and diversity, and the protection of natural resources and ecosystems.</td>\n",
       "      <td>29</td>\n",
       "    </tr>\n",
       "    <tr>\n",
       "      <th>5</th>\n",
       "      <td>Demonstrating the compliance and accountability of organizations to the legal and ethical obligations and expectations of OSH If you want to learn more a</td>\n",
       "      <td>24</td>\n",
       "    </tr>\n",
       "    <tr>\n",
       "      <th>6</th>\n",
       "      <td>Reducing the risks of work-related injuries, illnesses, and deaths, and improving the health and well-being of workers, employers, and the public.</td>\n",
       "      <td>21</td>\n",
       "    </tr>\n",
       "  </tbody>\n",
       "</table>\n",
       "</div>"
      ],
      "text/plain": [
       "                                                                                                                                                                                                                                                                                 Text  word_count\n",
       "0                                                                                                                                                                   OHSAS 18000 is a series of standards and guidelines for occupational safety and health (OSH) management systems.           17\n",
       "1                                                                                                                                                         OSHAS 18000 is compatible with other management system standards, such as ISO 9000 (quality) and ISO 14000 (environmental).          18\n",
       "2  OSHAS 18001: This is the standard that specifies the requirements for an OSH management system. It covers the policy, planning, implementation, operation, checking, and review of the system. It also provides guidance on how to conduct audits and certification of the system.          42\n",
       "3                                   OSHAS 18002: This is the guideline that provides information and advice on how to apply OSHAS 18001. It covers the interpretation, implementation, and improvement of the system. It also provides examples and best practices of OSH management.          37\n",
       "4                                                                      Contributing to the social and environmental sustainability of work and development, by ensuring the respect for human rights, dignity, and diversity, and the protection of natural resources and ecosystems.          29\n",
       "5                                                                                                                           Demonstrating the compliance and accountability of organizations to the legal and ethical obligations and expectations of OSH If you want to learn more a          24\n",
       "6                                                                                                                                  Reducing the risks of work-related injuries, illnesses, and deaths, and improving the health and well-being of workers, employers, and the public.          21"
      ]
     },
     "execution_count": 25,
     "metadata": {},
     "output_type": "execute_result"
    }
   ],
   "source": [
    "pd.set_option('display.max_colwidth',(1000))\n",
    "df"
   ]
  },
  {
   "cell_type": "markdown",
   "id": "dd42ceaa-0625-4d61-b51a-f6407183fac0",
   "metadata": {},
   "source": [
    "Q5"
   ]
  },
  {
   "cell_type": "markdown",
   "id": "ded56029-f588-4bd3-b27d-1634a8ff6889",
   "metadata": {},
   "source": [
    "DataFrame.size():\n",
    "Represents the total number of elements in the DataFrame. This is calculated by multiplying the number of rows by the number of columns.\n",
    "\n",
    "DataFrame.shape():\n",
    "Returns a tuple of two integers representing the dimensions of the DataFrame. The first element is the number of rows, and the second element is the number of columns."
   ]
  },
  {
   "cell_type": "code",
   "execution_count": 84,
   "id": "c1030bdd-8221-4b58-88b4-4b67d6f78cac",
   "metadata": {},
   "outputs": [
    {
     "name": "stdout",
     "output_type": "stream",
     "text": [
      "15\n",
      "(5, 3)\n"
     ]
    }
   ],
   "source": [
    "df=pd.DataFrame({'A':[3,8,6,2,9],\n",
    "                'B':[5,2,9,3,1],\n",
    "                'C':[1,7,4,5,2]})\n",
    "print(df.size)\n",
    "print(df.shape)"
   ]
  },
  {
   "cell_type": "markdown",
   "id": "d5569111-bd4e-466d-b743-16f4b44f8a06",
   "metadata": {},
   "source": [
    "Q6"
   ]
  },
  {
   "cell_type": "markdown",
   "id": "e60a4bbc-90fb-48b4-bb9c-29e58ee80f78",
   "metadata": {},
   "source": [
    "pd.read_excel('file.xlsx') function is used to read a excel file."
   ]
  },
  {
   "cell_type": "markdown",
   "id": "956048ab-5a51-4e74-82a7-ee5f73a28bf9",
   "metadata": {},
   "source": [
    "Q7\n"
   ]
  },
  {
   "cell_type": "code",
   "execution_count": 35,
   "id": "7860dd7d-64db-4e0e-a674-61250a9db0ea",
   "metadata": {},
   "outputs": [],
   "source": [
    "import pandas as pd\n",
    "df=pd.DataFrame({'Email':['pratik@gmail.com','subh@gmail.com','yash.mishra@gmail.com','john.doe@example.com','krish@gmail.com']})"
   ]
  },
  {
   "cell_type": "code",
   "execution_count": 36,
   "id": "7208055c-f98d-4259-a6e5-f526704e800b",
   "metadata": {},
   "outputs": [],
   "source": [
    "def user_name(x):\n",
    "    name=x.split('@')\n",
    "    return name[0]"
   ]
  },
  {
   "cell_type": "code",
   "execution_count": 37,
   "id": "397cf55d-c46f-48e0-a715-b428f9b13901",
   "metadata": {},
   "outputs": [],
   "source": [
    "df['user name']=df['Email'].apply(user_name)"
   ]
  },
  {
   "cell_type": "code",
   "execution_count": 38,
   "id": "fb8d9793-53a1-446b-bcf7-e9654855bbe0",
   "metadata": {},
   "outputs": [
    {
     "data": {
      "text/html": [
       "<div>\n",
       "<style scoped>\n",
       "    .dataframe tbody tr th:only-of-type {\n",
       "        vertical-align: middle;\n",
       "    }\n",
       "\n",
       "    .dataframe tbody tr th {\n",
       "        vertical-align: top;\n",
       "    }\n",
       "\n",
       "    .dataframe thead th {\n",
       "        text-align: right;\n",
       "    }\n",
       "</style>\n",
       "<table border=\"1\" class=\"dataframe\">\n",
       "  <thead>\n",
       "    <tr style=\"text-align: right;\">\n",
       "      <th></th>\n",
       "      <th>Email</th>\n",
       "      <th>user name</th>\n",
       "    </tr>\n",
       "  </thead>\n",
       "  <tbody>\n",
       "    <tr>\n",
       "      <th>0</th>\n",
       "      <td>pratik@gmail.com</td>\n",
       "      <td>pratik</td>\n",
       "    </tr>\n",
       "    <tr>\n",
       "      <th>1</th>\n",
       "      <td>subh@gmail.com</td>\n",
       "      <td>subh</td>\n",
       "    </tr>\n",
       "    <tr>\n",
       "      <th>2</th>\n",
       "      <td>yash.mishra@gmail.com</td>\n",
       "      <td>yash.mishra</td>\n",
       "    </tr>\n",
       "    <tr>\n",
       "      <th>3</th>\n",
       "      <td>john.doe@example.com</td>\n",
       "      <td>john.doe</td>\n",
       "    </tr>\n",
       "    <tr>\n",
       "      <th>4</th>\n",
       "      <td>krish@gmail.com</td>\n",
       "      <td>krish</td>\n",
       "    </tr>\n",
       "  </tbody>\n",
       "</table>\n",
       "</div>"
      ],
      "text/plain": [
       "                   Email    user name\n",
       "0       pratik@gmail.com       pratik\n",
       "1         subh@gmail.com         subh\n",
       "2  yash.mishra@gmail.com  yash.mishra\n",
       "3   john.doe@example.com     john.doe\n",
       "4        krish@gmail.com        krish"
      ]
     },
     "execution_count": 38,
     "metadata": {},
     "output_type": "execute_result"
    }
   ],
   "source": [
    "df"
   ]
  },
  {
   "cell_type": "markdown",
   "id": "01859a14-c0b7-4051-8399-6383a5a8c757",
   "metadata": {},
   "source": [
    "Q8"
   ]
  },
  {
   "cell_type": "code",
   "execution_count": 39,
   "id": "0657458d-dcf4-44bc-875d-fbb65fc2f5d6",
   "metadata": {},
   "outputs": [
    {
     "data": {
      "text/html": [
       "<div>\n",
       "<style scoped>\n",
       "    .dataframe tbody tr th:only-of-type {\n",
       "        vertical-align: middle;\n",
       "    }\n",
       "\n",
       "    .dataframe tbody tr th {\n",
       "        vertical-align: top;\n",
       "    }\n",
       "\n",
       "    .dataframe thead th {\n",
       "        text-align: right;\n",
       "    }\n",
       "</style>\n",
       "<table border=\"1\" class=\"dataframe\">\n",
       "  <thead>\n",
       "    <tr style=\"text-align: right;\">\n",
       "      <th></th>\n",
       "      <th>A</th>\n",
       "      <th>B</th>\n",
       "      <th>C</th>\n",
       "    </tr>\n",
       "  </thead>\n",
       "  <tbody>\n",
       "    <tr>\n",
       "      <th>0</th>\n",
       "      <td>3</td>\n",
       "      <td>5</td>\n",
       "      <td>1</td>\n",
       "    </tr>\n",
       "    <tr>\n",
       "      <th>1</th>\n",
       "      <td>8</td>\n",
       "      <td>2</td>\n",
       "      <td>7</td>\n",
       "    </tr>\n",
       "    <tr>\n",
       "      <th>2</th>\n",
       "      <td>6</td>\n",
       "      <td>9</td>\n",
       "      <td>4</td>\n",
       "    </tr>\n",
       "    <tr>\n",
       "      <th>3</th>\n",
       "      <td>2</td>\n",
       "      <td>3</td>\n",
       "      <td>5</td>\n",
       "    </tr>\n",
       "    <tr>\n",
       "      <th>4</th>\n",
       "      <td>9</td>\n",
       "      <td>1</td>\n",
       "      <td>2</td>\n",
       "    </tr>\n",
       "  </tbody>\n",
       "</table>\n",
       "</div>"
      ],
      "text/plain": [
       "   A  B  C\n",
       "0  3  5  1\n",
       "1  8  2  7\n",
       "2  6  9  4\n",
       "3  2  3  5\n",
       "4  9  1  2"
      ]
     },
     "execution_count": 39,
     "metadata": {},
     "output_type": "execute_result"
    }
   ],
   "source": [
    "import pandas as pd\n",
    "df=pd.DataFrame({'A':[3,8,6,2,9],\n",
    "                'B':[5,2,9,3,1],\n",
    "                'C':[1,7,4,5,2]})\n",
    "df"
   ]
  },
  {
   "cell_type": "code",
   "execution_count": 45,
   "id": "268df4a6-c2e9-485e-b04d-17872c15f85f",
   "metadata": {},
   "outputs": [
    {
     "data": {
      "text/html": [
       "<div>\n",
       "<style scoped>\n",
       "    .dataframe tbody tr th:only-of-type {\n",
       "        vertical-align: middle;\n",
       "    }\n",
       "\n",
       "    .dataframe tbody tr th {\n",
       "        vertical-align: top;\n",
       "    }\n",
       "\n",
       "    .dataframe thead th {\n",
       "        text-align: right;\n",
       "    }\n",
       "</style>\n",
       "<table border=\"1\" class=\"dataframe\">\n",
       "  <thead>\n",
       "    <tr style=\"text-align: right;\">\n",
       "      <th></th>\n",
       "      <th>A</th>\n",
       "      <th>B</th>\n",
       "      <th>C</th>\n",
       "    </tr>\n",
       "  </thead>\n",
       "  <tbody>\n",
       "    <tr>\n",
       "      <th>1</th>\n",
       "      <td>8</td>\n",
       "      <td>2</td>\n",
       "      <td>7</td>\n",
       "    </tr>\n",
       "    <tr>\n",
       "      <th>2</th>\n",
       "      <td>6</td>\n",
       "      <td>9</td>\n",
       "      <td>4</td>\n",
       "    </tr>\n",
       "    <tr>\n",
       "      <th>4</th>\n",
       "      <td>9</td>\n",
       "      <td>1</td>\n",
       "      <td>2</td>\n",
       "    </tr>\n",
       "  </tbody>\n",
       "</table>\n",
       "</div>"
      ],
      "text/plain": [
       "   A  B  C\n",
       "1  8  2  7\n",
       "2  6  9  4\n",
       "4  9  1  2"
      ]
     },
     "execution_count": 45,
     "metadata": {},
     "output_type": "execute_result"
    }
   ],
   "source": [
    "df2=df[(df['A']>5)&(df['B']<10)]\n",
    "df2"
   ]
  },
  {
   "cell_type": "markdown",
   "id": "050202d8-5783-4b2f-ba4d-0004266ed97b",
   "metadata": {},
   "source": [
    "Q9"
   ]
  },
  {
   "cell_type": "code",
   "execution_count": 46,
   "id": "bf820b32-5d5c-43d0-9d96-8c0094fd343e",
   "metadata": {},
   "outputs": [],
   "source": [
    "df3=pd.DataFrame({'Values':[12,13,18,1,90,23]})"
   ]
  },
  {
   "cell_type": "code",
   "execution_count": 47,
   "id": "4503ca6c-4526-4e4c-9235-0cab4e7ae8b3",
   "metadata": {},
   "outputs": [
    {
     "data": {
      "text/plain": [
       "26.166666666666668"
      ]
     },
     "execution_count": 47,
     "metadata": {},
     "output_type": "execute_result"
    }
   ],
   "source": [
    "df3['Values'].mean()"
   ]
  },
  {
   "cell_type": "code",
   "execution_count": 48,
   "id": "6e9f2ba9-17eb-455d-8103-c6b0eddc8593",
   "metadata": {},
   "outputs": [
    {
     "data": {
      "text/plain": [
       "15.5"
      ]
     },
     "execution_count": 48,
     "metadata": {},
     "output_type": "execute_result"
    }
   ],
   "source": [
    "df3['Values'].median()"
   ]
  },
  {
   "cell_type": "code",
   "execution_count": 51,
   "id": "e85fb50f-a5c7-458f-8450-5622058e47f7",
   "metadata": {},
   "outputs": [
    {
     "data": {
      "text/plain": [
       "32.12112492841224"
      ]
     },
     "execution_count": 51,
     "metadata": {},
     "output_type": "execute_result"
    }
   ],
   "source": [
    "df3['Values'].std()"
   ]
  },
  {
   "cell_type": "markdown",
   "id": "c3e184a8-98ae-4b60-859b-e1c3a68dbd12",
   "metadata": {},
   "source": [
    "Q10"
   ]
  },
  {
   "cell_type": "code",
   "execution_count": 56,
   "id": "c1a20293-7587-41ac-a4ff-0135a650e0bb",
   "metadata": {},
   "outputs": [],
   "source": [
    "Date=pd.date_range(start='2023-10-1',end='2023-10-17')\n",
    "df4=pd.DataFrame({'Sales':[220,140,300,213,146,500,600,700,123,777,554,708,890,768,987,897,980],\n",
    "                 'Date':Date})"
   ]
  },
  {
   "cell_type": "code",
   "execution_count": 57,
   "id": "fefbb6d0-9413-476d-9385-038e2f730783",
   "metadata": {},
   "outputs": [
    {
     "data": {
      "text/html": [
       "<div>\n",
       "<style scoped>\n",
       "    .dataframe tbody tr th:only-of-type {\n",
       "        vertical-align: middle;\n",
       "    }\n",
       "\n",
       "    .dataframe tbody tr th {\n",
       "        vertical-align: top;\n",
       "    }\n",
       "\n",
       "    .dataframe thead th {\n",
       "        text-align: right;\n",
       "    }\n",
       "</style>\n",
       "<table border=\"1\" class=\"dataframe\">\n",
       "  <thead>\n",
       "    <tr style=\"text-align: right;\">\n",
       "      <th></th>\n",
       "      <th>Sales</th>\n",
       "      <th>Date</th>\n",
       "    </tr>\n",
       "  </thead>\n",
       "  <tbody>\n",
       "    <tr>\n",
       "      <th>0</th>\n",
       "      <td>220</td>\n",
       "      <td>2023-10-01</td>\n",
       "    </tr>\n",
       "    <tr>\n",
       "      <th>1</th>\n",
       "      <td>140</td>\n",
       "      <td>2023-10-02</td>\n",
       "    </tr>\n",
       "    <tr>\n",
       "      <th>2</th>\n",
       "      <td>300</td>\n",
       "      <td>2023-10-03</td>\n",
       "    </tr>\n",
       "    <tr>\n",
       "      <th>3</th>\n",
       "      <td>213</td>\n",
       "      <td>2023-10-04</td>\n",
       "    </tr>\n",
       "    <tr>\n",
       "      <th>4</th>\n",
       "      <td>146</td>\n",
       "      <td>2023-10-05</td>\n",
       "    </tr>\n",
       "    <tr>\n",
       "      <th>5</th>\n",
       "      <td>500</td>\n",
       "      <td>2023-10-06</td>\n",
       "    </tr>\n",
       "    <tr>\n",
       "      <th>6</th>\n",
       "      <td>600</td>\n",
       "      <td>2023-10-07</td>\n",
       "    </tr>\n",
       "    <tr>\n",
       "      <th>7</th>\n",
       "      <td>700</td>\n",
       "      <td>2023-10-08</td>\n",
       "    </tr>\n",
       "    <tr>\n",
       "      <th>8</th>\n",
       "      <td>123</td>\n",
       "      <td>2023-10-09</td>\n",
       "    </tr>\n",
       "    <tr>\n",
       "      <th>9</th>\n",
       "      <td>777</td>\n",
       "      <td>2023-10-10</td>\n",
       "    </tr>\n",
       "    <tr>\n",
       "      <th>10</th>\n",
       "      <td>554</td>\n",
       "      <td>2023-10-11</td>\n",
       "    </tr>\n",
       "    <tr>\n",
       "      <th>11</th>\n",
       "      <td>708</td>\n",
       "      <td>2023-10-12</td>\n",
       "    </tr>\n",
       "    <tr>\n",
       "      <th>12</th>\n",
       "      <td>890</td>\n",
       "      <td>2023-10-13</td>\n",
       "    </tr>\n",
       "    <tr>\n",
       "      <th>13</th>\n",
       "      <td>768</td>\n",
       "      <td>2023-10-14</td>\n",
       "    </tr>\n",
       "    <tr>\n",
       "      <th>14</th>\n",
       "      <td>987</td>\n",
       "      <td>2023-10-15</td>\n",
       "    </tr>\n",
       "    <tr>\n",
       "      <th>15</th>\n",
       "      <td>897</td>\n",
       "      <td>2023-10-16</td>\n",
       "    </tr>\n",
       "    <tr>\n",
       "      <th>16</th>\n",
       "      <td>980</td>\n",
       "      <td>2023-10-17</td>\n",
       "    </tr>\n",
       "  </tbody>\n",
       "</table>\n",
       "</div>"
      ],
      "text/plain": [
       "    Sales       Date\n",
       "0     220 2023-10-01\n",
       "1     140 2023-10-02\n",
       "2     300 2023-10-03\n",
       "3     213 2023-10-04\n",
       "4     146 2023-10-05\n",
       "5     500 2023-10-06\n",
       "6     600 2023-10-07\n",
       "7     700 2023-10-08\n",
       "8     123 2023-10-09\n",
       "9     777 2023-10-10\n",
       "10    554 2023-10-11\n",
       "11    708 2023-10-12\n",
       "12    890 2023-10-13\n",
       "13    768 2023-10-14\n",
       "14    987 2023-10-15\n",
       "15    897 2023-10-16\n",
       "16    980 2023-10-17"
      ]
     },
     "execution_count": 57,
     "metadata": {},
     "output_type": "execute_result"
    }
   ],
   "source": [
    "df4"
   ]
  },
  {
   "cell_type": "code",
   "execution_count": 67,
   "id": "fe203cf0-c1cb-4f44-9c26-588b8d4ff5b8",
   "metadata": {},
   "outputs": [],
   "source": [
    "df4['MovingAverage']=df4['Sales'].rolling(window=7,min_periods=1).mean()"
   ]
  },
  {
   "cell_type": "code",
   "execution_count": 68,
   "id": "0eb8612b-dbbc-4ba0-bb30-4f871eea835e",
   "metadata": {},
   "outputs": [
    {
     "data": {
      "text/html": [
       "<div>\n",
       "<style scoped>\n",
       "    .dataframe tbody tr th:only-of-type {\n",
       "        vertical-align: middle;\n",
       "    }\n",
       "\n",
       "    .dataframe tbody tr th {\n",
       "        vertical-align: top;\n",
       "    }\n",
       "\n",
       "    .dataframe thead th {\n",
       "        text-align: right;\n",
       "    }\n",
       "</style>\n",
       "<table border=\"1\" class=\"dataframe\">\n",
       "  <thead>\n",
       "    <tr style=\"text-align: right;\">\n",
       "      <th></th>\n",
       "      <th>Sales</th>\n",
       "      <th>Date</th>\n",
       "      <th>MovingAverage</th>\n",
       "    </tr>\n",
       "  </thead>\n",
       "  <tbody>\n",
       "    <tr>\n",
       "      <th>0</th>\n",
       "      <td>220</td>\n",
       "      <td>2023-10-01</td>\n",
       "      <td>220.000000</td>\n",
       "    </tr>\n",
       "    <tr>\n",
       "      <th>1</th>\n",
       "      <td>140</td>\n",
       "      <td>2023-10-02</td>\n",
       "      <td>180.000000</td>\n",
       "    </tr>\n",
       "    <tr>\n",
       "      <th>2</th>\n",
       "      <td>300</td>\n",
       "      <td>2023-10-03</td>\n",
       "      <td>220.000000</td>\n",
       "    </tr>\n",
       "    <tr>\n",
       "      <th>3</th>\n",
       "      <td>213</td>\n",
       "      <td>2023-10-04</td>\n",
       "      <td>218.250000</td>\n",
       "    </tr>\n",
       "    <tr>\n",
       "      <th>4</th>\n",
       "      <td>146</td>\n",
       "      <td>2023-10-05</td>\n",
       "      <td>203.800000</td>\n",
       "    </tr>\n",
       "    <tr>\n",
       "      <th>5</th>\n",
       "      <td>500</td>\n",
       "      <td>2023-10-06</td>\n",
       "      <td>253.166667</td>\n",
       "    </tr>\n",
       "    <tr>\n",
       "      <th>6</th>\n",
       "      <td>600</td>\n",
       "      <td>2023-10-07</td>\n",
       "      <td>302.714286</td>\n",
       "    </tr>\n",
       "    <tr>\n",
       "      <th>7</th>\n",
       "      <td>700</td>\n",
       "      <td>2023-10-08</td>\n",
       "      <td>371.285714</td>\n",
       "    </tr>\n",
       "    <tr>\n",
       "      <th>8</th>\n",
       "      <td>123</td>\n",
       "      <td>2023-10-09</td>\n",
       "      <td>368.857143</td>\n",
       "    </tr>\n",
       "    <tr>\n",
       "      <th>9</th>\n",
       "      <td>777</td>\n",
       "      <td>2023-10-10</td>\n",
       "      <td>437.000000</td>\n",
       "    </tr>\n",
       "    <tr>\n",
       "      <th>10</th>\n",
       "      <td>554</td>\n",
       "      <td>2023-10-11</td>\n",
       "      <td>485.714286</td>\n",
       "    </tr>\n",
       "    <tr>\n",
       "      <th>11</th>\n",
       "      <td>708</td>\n",
       "      <td>2023-10-12</td>\n",
       "      <td>566.000000</td>\n",
       "    </tr>\n",
       "    <tr>\n",
       "      <th>12</th>\n",
       "      <td>890</td>\n",
       "      <td>2023-10-13</td>\n",
       "      <td>621.714286</td>\n",
       "    </tr>\n",
       "    <tr>\n",
       "      <th>13</th>\n",
       "      <td>768</td>\n",
       "      <td>2023-10-14</td>\n",
       "      <td>645.714286</td>\n",
       "    </tr>\n",
       "    <tr>\n",
       "      <th>14</th>\n",
       "      <td>987</td>\n",
       "      <td>2023-10-15</td>\n",
       "      <td>686.714286</td>\n",
       "    </tr>\n",
       "    <tr>\n",
       "      <th>15</th>\n",
       "      <td>897</td>\n",
       "      <td>2023-10-16</td>\n",
       "      <td>797.285714</td>\n",
       "    </tr>\n",
       "    <tr>\n",
       "      <th>16</th>\n",
       "      <td>980</td>\n",
       "      <td>2023-10-17</td>\n",
       "      <td>826.285714</td>\n",
       "    </tr>\n",
       "  </tbody>\n",
       "</table>\n",
       "</div>"
      ],
      "text/plain": [
       "    Sales       Date  MovingAverage\n",
       "0     220 2023-10-01     220.000000\n",
       "1     140 2023-10-02     180.000000\n",
       "2     300 2023-10-03     220.000000\n",
       "3     213 2023-10-04     218.250000\n",
       "4     146 2023-10-05     203.800000\n",
       "5     500 2023-10-06     253.166667\n",
       "6     600 2023-10-07     302.714286\n",
       "7     700 2023-10-08     371.285714\n",
       "8     123 2023-10-09     368.857143\n",
       "9     777 2023-10-10     437.000000\n",
       "10    554 2023-10-11     485.714286\n",
       "11    708 2023-10-12     566.000000\n",
       "12    890 2023-10-13     621.714286\n",
       "13    768 2023-10-14     645.714286\n",
       "14    987 2023-10-15     686.714286\n",
       "15    897 2023-10-16     797.285714\n",
       "16    980 2023-10-17     826.285714"
      ]
     },
     "execution_count": 68,
     "metadata": {},
     "output_type": "execute_result"
    }
   ],
   "source": [
    "df4"
   ]
  },
  {
   "cell_type": "markdown",
   "id": "33b9e847-fd63-46a8-ba1d-0f86f3a4e444",
   "metadata": {},
   "source": [
    "Q11"
   ]
  },
  {
   "cell_type": "code",
   "execution_count": 74,
   "id": "b3d0416d-27cb-49ee-b45d-5ec244c498f1",
   "metadata": {},
   "outputs": [],
   "source": [
    "Date=pd.date_range(start='2023-10-1',end='2023-10-17')\n",
    "df4=pd.DataFrame({'Date':Date})"
   ]
  },
  {
   "cell_type": "code",
   "execution_count": 77,
   "id": "8a9fa190-aceb-46e2-b066-b2afb16b50da",
   "metadata": {},
   "outputs": [],
   "source": [
    "df4['Weekday']=df['Date'].dt.day_name()"
   ]
  },
  {
   "cell_type": "code",
   "execution_count": 78,
   "id": "b11a106f-4313-4381-9e1d-66a91223f193",
   "metadata": {},
   "outputs": [
    {
     "data": {
      "text/html": [
       "<div>\n",
       "<style scoped>\n",
       "    .dataframe tbody tr th:only-of-type {\n",
       "        vertical-align: middle;\n",
       "    }\n",
       "\n",
       "    .dataframe tbody tr th {\n",
       "        vertical-align: top;\n",
       "    }\n",
       "\n",
       "    .dataframe thead th {\n",
       "        text-align: right;\n",
       "    }\n",
       "</style>\n",
       "<table border=\"1\" class=\"dataframe\">\n",
       "  <thead>\n",
       "    <tr style=\"text-align: right;\">\n",
       "      <th></th>\n",
       "      <th>Date</th>\n",
       "      <th>Weekday</th>\n",
       "    </tr>\n",
       "  </thead>\n",
       "  <tbody>\n",
       "    <tr>\n",
       "      <th>0</th>\n",
       "      <td>2023-10-01</td>\n",
       "      <td>Sunday</td>\n",
       "    </tr>\n",
       "    <tr>\n",
       "      <th>1</th>\n",
       "      <td>2023-10-02</td>\n",
       "      <td>Monday</td>\n",
       "    </tr>\n",
       "    <tr>\n",
       "      <th>2</th>\n",
       "      <td>2023-10-03</td>\n",
       "      <td>Tuesday</td>\n",
       "    </tr>\n",
       "    <tr>\n",
       "      <th>3</th>\n",
       "      <td>2023-10-04</td>\n",
       "      <td>Wednesday</td>\n",
       "    </tr>\n",
       "    <tr>\n",
       "      <th>4</th>\n",
       "      <td>2023-10-05</td>\n",
       "      <td>Thursday</td>\n",
       "    </tr>\n",
       "    <tr>\n",
       "      <th>5</th>\n",
       "      <td>2023-10-06</td>\n",
       "      <td>Friday</td>\n",
       "    </tr>\n",
       "    <tr>\n",
       "      <th>6</th>\n",
       "      <td>2023-10-07</td>\n",
       "      <td>Saturday</td>\n",
       "    </tr>\n",
       "    <tr>\n",
       "      <th>7</th>\n",
       "      <td>2023-10-08</td>\n",
       "      <td>Sunday</td>\n",
       "    </tr>\n",
       "    <tr>\n",
       "      <th>8</th>\n",
       "      <td>2023-10-09</td>\n",
       "      <td>Monday</td>\n",
       "    </tr>\n",
       "    <tr>\n",
       "      <th>9</th>\n",
       "      <td>2023-10-10</td>\n",
       "      <td>Tuesday</td>\n",
       "    </tr>\n",
       "    <tr>\n",
       "      <th>10</th>\n",
       "      <td>2023-10-11</td>\n",
       "      <td>Wednesday</td>\n",
       "    </tr>\n",
       "    <tr>\n",
       "      <th>11</th>\n",
       "      <td>2023-10-12</td>\n",
       "      <td>Thursday</td>\n",
       "    </tr>\n",
       "    <tr>\n",
       "      <th>12</th>\n",
       "      <td>2023-10-13</td>\n",
       "      <td>Friday</td>\n",
       "    </tr>\n",
       "    <tr>\n",
       "      <th>13</th>\n",
       "      <td>2023-10-14</td>\n",
       "      <td>Saturday</td>\n",
       "    </tr>\n",
       "    <tr>\n",
       "      <th>14</th>\n",
       "      <td>2023-10-15</td>\n",
       "      <td>Sunday</td>\n",
       "    </tr>\n",
       "    <tr>\n",
       "      <th>15</th>\n",
       "      <td>2023-10-16</td>\n",
       "      <td>Monday</td>\n",
       "    </tr>\n",
       "    <tr>\n",
       "      <th>16</th>\n",
       "      <td>2023-10-17</td>\n",
       "      <td>Tuesday</td>\n",
       "    </tr>\n",
       "  </tbody>\n",
       "</table>\n",
       "</div>"
      ],
      "text/plain": [
       "         Date    Weekday\n",
       "0  2023-10-01     Sunday\n",
       "1  2023-10-02     Monday\n",
       "2  2023-10-03    Tuesday\n",
       "3  2023-10-04  Wednesday\n",
       "4  2023-10-05   Thursday\n",
       "5  2023-10-06     Friday\n",
       "6  2023-10-07   Saturday\n",
       "7  2023-10-08     Sunday\n",
       "8  2023-10-09     Monday\n",
       "9  2023-10-10    Tuesday\n",
       "10 2023-10-11  Wednesday\n",
       "11 2023-10-12   Thursday\n",
       "12 2023-10-13     Friday\n",
       "13 2023-10-14   Saturday\n",
       "14 2023-10-15     Sunday\n",
       "15 2023-10-16     Monday\n",
       "16 2023-10-17    Tuesday"
      ]
     },
     "execution_count": 78,
     "metadata": {},
     "output_type": "execute_result"
    }
   ],
   "source": [
    "df4"
   ]
  },
  {
   "cell_type": "code",
   "execution_count": null,
   "id": "d8131711-cde1-4a04-a9a6-fa73f220f4eb",
   "metadata": {},
   "outputs": [],
   "source": []
  }
 ],
 "metadata": {
  "kernelspec": {
   "display_name": "Python 3 (ipykernel)",
   "language": "python",
   "name": "python3"
  },
  "language_info": {
   "codemirror_mode": {
    "name": "ipython",
    "version": 3
   },
   "file_extension": ".py",
   "mimetype": "text/x-python",
   "name": "python",
   "nbconvert_exporter": "python",
   "pygments_lexer": "ipython3",
   "version": "3.10.8"
  }
 },
 "nbformat": 4,
 "nbformat_minor": 5
}
